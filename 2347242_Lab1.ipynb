{
 "cells": [
  {
   "cell_type": "markdown",
   "metadata": {},
   "source": [
    "# Regular Lab Questions - I\n",
    "\n",
    "> Nitish Kumar Mahto\n",
    "\n",
    "> 2347242"
   ]
  },
  {
   "cell_type": "markdown",
   "metadata": {},
   "source": []
  },
  {
   "cell_type": "code",
   "execution_count": null,
   "metadata": {},
   "outputs": [],
   "source": []
  },
  {
   "cell_type": "markdown",
   "metadata": {},
   "source": [
    "### Q.1"
   ]
  },
  {
   "cell_type": "code",
   "execution_count": 38,
   "metadata": {},
   "outputs": [
    {
     "name": "stdout",
     "output_type": "stream",
     "text": [
      "Number of times the word 'BankingManagementSystem' comes is : \n",
      "4\n"
     ]
    }
   ],
   "source": [
    "paragraph = \"Hii this is Nitish Kumar Mahto. My reg. no. is 2347242. I am a 1st year student at Christ University and enrolled in MCA program. My domain name is BankingManagementSystem . In this BankingManagementSystem ,i'm mainly focused towards account management, transaction processing, customer relationship management, security protocols, and more. The various attributes in my domain named BankingManagementSystem are customer name, account number, Loan, Security, transactions, etc and in this BankingManagementSystem we are mainly cocern towards security and ease of customer\"\n",
    "\n",
    "print(\"Number of times the word 'BankingManagementSystem' comes is : \")\n",
    "print(paragraph.count(\"BankingManagementSystem\"))\n"
   ]
  },
  {
   "cell_type": "markdown",
   "metadata": {},
   "source": [
    "### Q.2"
   ]
  },
  {
   "cell_type": "code",
   "execution_count": 29,
   "metadata": {},
   "outputs": [
    {
     "name": "stdout",
     "output_type": "stream",
     "text": [
      "Datatype of  Name : <class 'str'>\n",
      "Datatype of  Reg. No. : <class 'int'>\n",
      "Datatype of  Domain : <class 'str'>\n",
      "Datatype of  Course : <class 'str'>\n"
     ]
    }
   ],
   "source": [
    "data = {\n",
    "    \"Name\": \"Nitish Kumar Mahto\",\n",
    "    \"Reg. No.\": 2347242,\n",
    "    \"Domain\": \"Banking Management System\",\n",
    "    \"Course\": \"MCA\",\n",
    "}\n",
    "for y in data:\n",
    "    print(\"Datatype of \", y, \":\", type(data[y]))"
   ]
  },
  {
   "cell_type": "markdown",
   "metadata": {},
   "source": [
    "### Q.3"
   ]
  },
  {
   "cell_type": "code",
   "execution_count": 31,
   "metadata": {},
   "outputs": [
    {
     "name": "stdout",
     "output_type": "stream",
     "text": [
      "Number of times Integers comes = 8\n",
      "Number of times Alphabets comes = 332\n",
      "Number of times Special Characters comes = 17\n"
     ]
    }
   ],
   "source": [
    "\n",
    "paragraph = \"Hii this is Nitish Kumar Mahto. My reg. no. is 2347242. I am a 1st year student at Christ University and enrolled in MCA program. My domain name is Banking Management System. Here i'm mainly focused towards account management, transaction processing, customer relationship management, security protocols, and more. The various attributes in my domain are customer name, account number, Loan, Security, transactions, etc\"\n",
    "count = {\"Integers\": 0, \"Alphabets\": 0, \"Special Characters\": 0}\n",
    "\n",
    "for x in paragraph:\n",
    "    if x.isalpha():\n",
    "        count[\"Alphabets\"] += 1\n",
    "    elif x.isdigit():\n",
    "        count[\"Integers\"] += 1\n",
    "    elif not x.isspace():\n",
    "        count[\"Special Characters\"] += 1\n",
    "\n",
    "for x in count:\n",
    "    print(\"Number of times\", x, \"comes =\", count[x])"
   ]
  },
  {
   "cell_type": "markdown",
   "metadata": {},
   "source": [
    "## sets and tuples"
   ]
  },
  {
   "cell_type": "markdown",
   "metadata": {},
   "source": [
    "### Q.4"
   ]
  },
  {
   "cell_type": "code",
   "execution_count": 32,
   "metadata": {},
   "outputs": [
    {
     "name": "stdout",
     "output_type": "stream",
     "text": [
      "{True, 2, 2.5, 'Nitish'}\n",
      "{2, 2.5, 'Nitish'}\n",
      "{2, 2.5}\n",
      "set()\n"
     ]
    },
    {
     "ename": "NameError",
     "evalue": "name 'setdata' is not defined",
     "output_type": "error",
     "traceback": [
      "\u001b[1;31m---------------------------------------------------------------------------\u001b[0m",
      "\u001b[1;31mNameError\u001b[0m                                 Traceback (most recent call last)",
      "Cell \u001b[1;32mIn[32], line 24\u001b[0m\n\u001b[0;32m     21\u001b[0m \u001b[39mprint\u001b[39m(setdata)\n\u001b[0;32m     23\u001b[0m \u001b[39mdel\u001b[39;00m setdata\n\u001b[1;32m---> 24\u001b[0m \u001b[39mprint\u001b[39m(setdata)\n",
      "\u001b[1;31mNameError\u001b[0m: name 'setdata' is not defined"
     ]
    }
   ],
   "source": [
    "\"\"\"\n",
    "INSIGTHS\n",
    "Boolean value is not counted as a part of the set\n",
    "The pop() randomly removes any element in a set and also returns the same.\n",
    "Then discard() removes a particular element from the set and doesnt give any error is element not found\n",
    "The clear() deletes all elements of the set and makes it empty\n",
    "del deletes the set from memory and can't be accessed any further\n",
    "\"\"\"\n",
    "\n",
    "setdata = {2, 2.5, \"Nitish\", True}\n",
    "\n",
    "print(setdata)\n",
    "\n",
    "setdata.pop()\n",
    "print(setdata)\n",
    "\n",
    "setdata.discard(\"Nitish\")\n",
    "print(setdata)\n",
    "\n",
    "setdata.clear()\n",
    "print(setdata)\n",
    "\n",
    "del setdata\n",
    "print(setdata)"
   ]
  },
  {
   "cell_type": "markdown",
   "metadata": {},
   "source": [
    "### Q.5"
   ]
  },
  {
   "cell_type": "code",
   "execution_count": 33,
   "metadata": {},
   "outputs": [
    {
     "name": "stdout",
     "output_type": "stream",
     "text": [
      "Default values: {'Transacton', 'Loan', 'Customer', 'Security', 'Account'}\n",
      "Datas of Set in Descending Order: ['Transacton', 'Security', 'Loan', 'Customer', 'Account']\n"
     ]
    }
   ],
   "source": [
    "# DESCENDING ORDER\n",
    "\n",
    "setdata = {\"Customer\", \"Transacton\", \"Account\", \"Loan\", \"Security\"}\n",
    "print(\"Default values:\", setdata)\n",
    "\n",
    "setdata_descending = sorted(setdata, reverse=True)\n",
    "\n",
    "print(\"Datas of Set in Descending Order:\", setdata_descending)"
   ]
  },
  {
   "cell_type": "markdown",
   "metadata": {},
   "source": [
    "### Q.6"
   ]
  },
  {
   "cell_type": "code",
   "execution_count": 18,
   "metadata": {},
   "outputs": [
    {
     "name": "stdout",
     "output_type": "stream",
     "text": [
      "Packed Tuple: ('Customer', 'Transacton', 'Account', 'Loan', 'Security')\n",
      "\n",
      "Unpacked Attributes:\n",
      "Attribute 1: Customer\n",
      "Attribute 2: Transacton\n",
      "Attribute 3: Account\n",
      "Attribute 4: Loan\n",
      "Attribute 5: Security\n",
      "Customer\n",
      "Transacton\n",
      "Account\n",
      "Loan\n",
      "Security\n",
      "Customer\n",
      "Transacton\n",
      "Account\n",
      "Loan\n",
      "Security\n"
     ]
    }
   ],
   "source": [
    "# TUPLE PACKING UNPACKING\n",
    "\n",
    "domain_tuple = \"Customer\", \"Transacton\", \"Account\", \"Loan\", \"Security\"\n",
    "print(\"Packed Tuple:\", domain_tuple)\n",
    "\n",
    "attribute1, attribute2, attribute3, attribute4, attribute5 = domain_tuple\n",
    "print(\"\\nUnpacked Attributes:\")\n",
    "print(\"Attribute 1:\", attribute1)\n",
    "print(\"Attribute 2:\", attribute2)\n",
    "print(\"Attribute 3:\", attribute3)\n",
    "print(\"Attribute 4:\", attribute4)\n",
    "print(\"Attribute 5:\", attribute5)\n",
    "\n",
    "# or\n",
    "\n",
    "domain_tuple = (\"Customer\", \"Transacton\", \"Account\", \"Loan\", \"Security\")\n",
    "listdata = list(domain_tuple)\n",
    "for i in domain_tuple:\n",
    "    print(i)\n",
    "\n",
    "# or\n",
    "\n",
    "domain_tuple = (\"Customer\", \"Transacton\", \"Account\", \"Loan\", \"Security\")\n",
    "listdata = list(domain_tuple)\n",
    "for x in listdata:\n",
    "    print(x)"
   ]
  },
  {
   "cell_type": "markdown",
   "metadata": {},
   "source": [
    "### Q.7"
   ]
  },
  {
   "cell_type": "code",
   "execution_count": 19,
   "metadata": {},
   "outputs": [
    {
     "name": "stdout",
     "output_type": "stream",
     "text": [
      "The number of 'S' in Domain is :  1\n"
     ]
    }
   ],
   "source": [
    "# LETTER COUNT\n",
    "\n",
    "Domain = \"Banking Management System\"\n",
    "count = 0\n",
    "for x in Domain:\n",
    "    if x == \"S\":\n",
    "        count += 1\n",
    "\n",
    "print(\"The number of 'S' in Domain is : \", count)"
   ]
  },
  {
   "cell_type": "markdown",
   "metadata": {},
   "source": [
    "### Q.8"
   ]
  },
  {
   "cell_type": "code",
   "execution_count": 20,
   "metadata": {},
   "outputs": [
    {
     "name": "stdout",
     "output_type": "stream",
     "text": [
      "Banking Management System\n",
      "metsyS tnemeganaM gniknaB\n",
      "BnigMngmn ytm\n",
      "metsyS tnemeganaM gnikna\n",
      "Banking Management Syste\n",
      "metsyS tnemeganaM gniknaB\n"
     ]
    }
   ],
   "source": [
    "# SLICING\n",
    "\n",
    "Domain = \"Banking Management System\"\n",
    "print(Domain[0 : len(Domain)])\n",
    "print(Domain[0 : len(Domain) : 2])\n",
    "print(Domain[len(Domain) - 1 : 0 : -1])\n",
    "print(Domain[-len(Domain) : -1])\n",
    "print(Domain[::-1])"
   ]
  }
 ],
 "metadata": {
  "kernelspec": {
   "display_name": "venv",
   "language": "python",
   "name": "python3"
  },
  "language_info": {
   "codemirror_mode": {
    "name": "ipython",
    "version": 3
   },
   "file_extension": ".py",
   "mimetype": "text/x-python",
   "name": "python",
   "nbconvert_exporter": "python",
   "pygments_lexer": "ipython3",
   "version": "3.11.4"
  },
  "orig_nbformat": 4
 },
 "nbformat": 4,
 "nbformat_minor": 2
}
