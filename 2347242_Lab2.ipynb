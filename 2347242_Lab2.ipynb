{
 "cells": [
  {
   "cell_type": "markdown",
   "metadata": {},
   "source": [
    "## LAB 2"
   ]
  },
  {
   "cell_type": "markdown",
   "metadata": {},
   "source": [
    "#### Name: Nitish Kumar Mahto ;  Reg.: 2347242"
   ]
  },
  {
   "cell_type": "markdown",
   "metadata": {},
   "source": [
    "### Q.1"
   ]
  },
  {
   "cell_type": "code",
   "execution_count": 4,
   "metadata": {},
   "outputs": [
    {
     "name": "stdout",
     "output_type": "stream",
     "text": [
      "Original List Items : ['Customer', 'Transacton', 'Account', 'Loan', 'Security']\n",
      "list after Appending : ['Customer', 'Transacton', 'Account', 'Loan', 'Security', 'Card']\n",
      "list after inserting : ['Customer', 'Transacton', 'Account', 'ATM', 'Loan', 'Security', 'Card']\n",
      "List after adding the another list : ['Customer', 'Transacton', 'Account', 'ATM', 'Loan', 'Security', 'Card', 'CurrencyExchange', 'Employee']\n"
     ]
    }
   ],
   "source": [
    "\n",
    "listdata=[\"Customer\", \"Transacton\", \"Account\", \"Loan\", \"Security\"]\n",
    "print(\"Original List Items  :\", listdata)\n",
    "listdata.append(\"Card\")\n",
    "print(\"list after Appending :\", listdata)\n",
    "listdata.insert(3,\"ATM\")\n",
    "print(\"list after inserting :\", listdata)\n",
    "\n",
    "listdata1=[\"CurrencyExchange\", \"Employee\"]\n",
    "listdata.extend(listdata1)\n",
    "print(\"List after adding another list :\", listdata)\n"
   ]
  },
  {
   "cell_type": "markdown",
   "metadata": {},
   "source": [
    "### Q.2"
   ]
  },
  {
   "cell_type": "code",
   "execution_count": 3,
   "metadata": {},
   "outputs": [
    {
     "name": "stdout",
     "output_type": "stream",
     "text": [
      "Original List :  [0, 1, 2, 3, 4, 5, 6, 7, 8, 9]\n",
      "Swapped values :  [9, 1, 2, 3, 4, 5, 6, 7, 8, 0]\n",
      "Original list : [0, 1, 2, 3, 4, 5, 6, 7, 8, 9]\n",
      "swapped values :  [9, 1, 2, 3, 4, 5, 6, 7, 8, 0]\n"
     ]
    }
   ],
   "source": [
    "listdata1=[]\n",
    "for x in range(10):\n",
    "     listdata1.append(x)\n",
    "\n",
    "print(\"Original List : \",listdata1)    \n",
    "swap=listdata1[0]\n",
    "listdata1[0]=listdata1[len(listdata1)-1]\n",
    "listdata1[len(listdata1)-1]=swap\n",
    "print(\"Swapped values : \", listdata1)\n",
    "\n",
    "#or\n",
    "\n",
    "listdata2=[x for x in range(10) if x%1==0]\n",
    "print(\"Original list :\", listdata2)\n",
    "listdata2[0], listdata2[len(listdata2)-1]=listdata2[len(listdata2)-1], listdata2[0]\n",
    "print(\"swapped values : \", listdata2)\n"
   ]
  },
  {
   "cell_type": "markdown",
   "metadata": {},
   "source": [
    "### Q.3"
   ]
  },
  {
   "cell_type": "code",
   "execution_count": 13,
   "metadata": {},
   "outputs": [
    {
     "name": "stdout",
     "output_type": "stream",
     "text": [
      "sum of the list values : 45\n"
     ]
    }
   ],
   "source": [
    "\n",
    "listdata3=[x for x in range(10) if x%1==0]\n",
    "sum=0\n",
    "for y in listdata3:\n",
    "    sum+=y\n",
    "print(\"sum of the list values :\", sum)    \n",
    "\n",
    "#or\n",
    "\n",
    "# import math\n",
    "# listdata3=[x for x in range(10) if x%1==0]\n",
    "# Sum=sum(listdata3)\n",
    "# print(\"sum of the list values :\", Sum)    \n"
   ]
  },
  {
   "cell_type": "markdown",
   "metadata": {},
   "source": [
    "### Q.4"
   ]
  },
  {
   "cell_type": "code",
   "execution_count": 15,
   "metadata": {},
   "outputs": [
    {
     "name": "stdout",
     "output_type": "stream",
     "text": [
      "smallest number of the list : 1\n"
     ]
    }
   ],
   "source": [
    "\n",
    "array=[3,4,5,2,1,6,7]\n",
    "small=array[0]\n",
    "for x in array:\n",
    "    if x<small:\n",
    "        small=x\n",
    "print(\"smallest number of the list is :\", small)"
   ]
  },
  {
   "cell_type": "markdown",
   "metadata": {},
   "source": [
    "### Q.5"
   ]
  },
  {
   "cell_type": "code",
   "execution_count": 34,
   "metadata": {},
   "outputs": [
    {
     "name": "stdout",
     "output_type": "stream",
     "text": [
      "dictionary items after sorting in ascending order \n",
      "{'Course': 'MCA', 'Domain': 'Banking Management System', 'Name': 'Nitish Kumar', 'Reg. No.': 2347242}\n"
     ]
    }
   ],
   "source": [
    "# SORTING OF DICTIONARY\n",
    "\n",
    "dict_data = {\"Name\": \"Nitish Kumar\", \"Reg. No.\": 2347242, \"Domain\": \"Banking Management System\", \"Course\": \"MCA\"}\n",
    "print(\"dictionary items after sorting in ascending order \")\n",
    "print(dict(sorted(dict_data.items())))\n"
   ]
  },
  {
   "cell_type": "markdown",
   "metadata": {},
   "source": [
    "### Q.6"
   ]
  },
  {
   "cell_type": "code",
   "execution_count": 35,
   "metadata": {},
   "outputs": [
    {
     "name": "stdout",
     "output_type": "stream",
     "text": [
      "Sum of dictionary values =  45\n"
     ]
    }
   ],
   "source": [
    "#SUM OF VALUES\n",
    "\n",
    "dict_data = {'a': 5, 'b': 6, 'c': 7, 'd': 8, 'e': 9, 'f': 10}\n",
    "sum = 0\n",
    "for name in dict_data:\n",
    "    sum += dict_data[name]\n",
    "print(\"Sum of dictionary values = \", sum)\n"
   ]
  },
  {
   "cell_type": "markdown",
   "metadata": {},
   "source": [
    "### Q.7"
   ]
  },
  {
   "cell_type": "code",
   "execution_count": 14,
   "metadata": {},
   "outputs": [
    {
     "name": "stdout",
     "output_type": "stream",
     "text": [
      "Sorted dictionary on the basis of value in descending order : \n",
      "{'b': 10, 'd': 8, 'a': 5, 'c': 3, 'e': 1}\n"
     ]
    }
   ],
   "source": [
    "#LAMBDA FUNCTION\n",
    "\n",
    "my_dict = {'a': 5, 'b': 10, 'c': 3, 'd': 8, 'e': 1}\n",
    "desc_dict = dict(sorted(my_dict.items(), key=lambda x:x[1], reverse=True))\n",
    "\n",
    "print(\"Sorted dictionary on the basis of value in descending order : \")\n",
    "print(desc_dict)"
   ]
  }
 ],
 "metadata": {
  "kernelspec": {
   "display_name": "venv",
   "language": "python",
   "name": "python3"
  },
  "language_info": {
   "codemirror_mode": {
    "name": "ipython",
    "version": 3
   },
   "file_extension": ".py",
   "mimetype": "text/x-python",
   "name": "python",
   "nbconvert_exporter": "python",
   "pygments_lexer": "ipython3",
   "version": "3.11.4"
  },
  "orig_nbformat": 4
 },
 "nbformat": 4,
 "nbformat_minor": 2
}
