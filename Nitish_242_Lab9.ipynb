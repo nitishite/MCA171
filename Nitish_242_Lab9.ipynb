{
 "cells": [
  {
   "cell_type": "markdown",
   "metadata": {},
   "source": [
    "### Python  Regular Lab Exercise 9"
   ]
  },
  {
   "cell_type": "markdown",
   "metadata": {},
   "source": [
    "##### Q1. Write a program to distinguish between Array Indexing and Fancy Indexing."
   ]
  },
  {
   "cell_type": "code",
   "execution_count": 5,
   "metadata": {},
   "outputs": [
    {
     "name": "stdout",
     "output_type": "stream",
     "text": [
      "3\n",
      "[2 4]\n"
     ]
    }
   ],
   "source": [
    "import numpy as np\n",
    "\n",
    "# Array Indexing\n",
    "a = np.array([1, 2, 3, 4, 5])\n",
    "print(a[2])\n",
    "\n",
    "# Fancy Indexing\n",
    "b = np.array([1, 2, 3, 4, 5])\n",
    "print(b[[1, 3]])\n"
   ]
  },
  {
   "cell_type": "markdown",
   "metadata": {},
   "source": [
    "##### Q2. Execute the 2D array Slicing."
   ]
  },
  {
   "cell_type": "code",
   "execution_count": 11,
   "metadata": {},
   "outputs": [
    {
     "name": "stdout",
     "output_type": "stream",
     "text": [
      "Original array:\n",
      "[[1 2 3]\n",
      " [4 5 6]\n",
      " [7 8 9]]\n",
      "Sliced rows:\n",
      "[[4 5 6]\n",
      " [7 8 9]]\n",
      "Sliced columns:\n",
      "[[2 3]\n",
      " [5 6]\n",
      " [8 9]]\n",
      "Sliced rows and columns:\n",
      "[[5 6]\n",
      " [8 9]]\n"
     ]
    }
   ],
   "source": [
    "import numpy as np\n",
    "\n",
    "# Create a 2D array\n",
    "arr = np.array([[1, 2, 3], [4, 5, 6], [7, 8, 9]])\n",
    "\n",
    "# Slicing a 2D array\n",
    "print(\"Original array:\")\n",
    "print(arr)\n",
    "\n",
    "# Slicing rows\n",
    "print(\"Sliced rows:\")\n",
    "print(arr[1:3, :])\n",
    "\n",
    "# Slicing columns\n",
    "print(\"Sliced columns:\")\n",
    "print(arr[:, 1:3])\n",
    "\n",
    "# Slicing both rows and columns\n",
    "print(\"Sliced rows and columns:\")\n",
    "print(arr[1:3, 1:3])"
   ]
  },
  {
   "cell_type": "markdown",
   "metadata": {},
   "source": [
    "##### Q3. Create the 5-Dimensional arrays using ‘ndmin’."
   ]
  },
  {
   "cell_type": "code",
   "execution_count": 6,
   "metadata": {},
   "outputs": [
    {
     "name": "stdout",
     "output_type": "stream",
     "text": [
      "5-dimensional array:\n",
      "[[[[[1 2 3 4]]]]]\n",
      "Shape of array: (1, 1, 1, 1, 4)\n",
      "5\n"
     ]
    }
   ],
   "source": [
    "import numpy as np\n",
    "arr = np.array([1, 2, 3, 4], ndmin=5)\n",
    "print(\"5-dimensional array:\")\n",
    "print(arr)\n",
    "print(\"Shape of array:\", arr.shape)\n",
    "print(arr.ndim)"
   ]
  },
  {
   "cell_type": "markdown",
   "metadata": {},
   "source": [
    "##### Q4.Reshape the array from 1-D to 2-D array."
   ]
  },
  {
   "cell_type": "code",
   "execution_count": 9,
   "metadata": {},
   "outputs": [
    {
     "name": "stdout",
     "output_type": "stream",
     "text": [
      "Original array:\n",
      "[1 2 3 4 5 6 7 8]\n",
      "\n",
      "Reshaped array:\n",
      "[[1 2 3 4]\n",
      " [5 6 7 8]]\n"
     ]
    }
   ],
   "source": [
    "import numpy as np\n",
    "\n",
    "# Create a 1-D array\n",
    "arr = np.array([1, 2, 3, 4, 5, 6, 7, 8])\n",
    "\n",
    "# Reshape the array to a 2-D array with 2 rows and 4 columns\n",
    "newarr = arr.reshape(2, 4)\n",
    "\n",
    "# Print the original and reshaped arrays\n",
    "print(\"Original array:\")\n",
    "print(arr)\n",
    "print(\"\\nReshaped array:\")\n",
    "print(newarr)"
   ]
  },
  {
   "cell_type": "markdown",
   "metadata": {},
   "source": [
    "##### Q5. Perform the Stack functions in Numpy arrays – Stack(), hstack(), vstack(), and dstack()."
   ]
  },
  {
   "cell_type": "code",
   "execution_count": 8,
   "metadata": {},
   "outputs": [
    {
     "name": "stdout",
     "output_type": "stream",
     "text": [
      "Vertically stacked array:\n",
      "[[1 2 3]\n",
      " [4 5 6]]\n",
      "\n",
      "Horizontally stacked array:\n",
      "[1 2 3 4 5 6]\n",
      "\n",
      "Depth-wise stacked array:\n",
      "[[[1 4]\n",
      "  [2 5]\n",
      "  [3 6]]]\n",
      "\n",
      "Stacked array along a new axis:\n",
      "[[1 4]\n",
      " [2 5]\n",
      " [3 6]]\n"
     ]
    }
   ],
   "source": [
    "import numpy as np\n",
    "\n",
    "# Create two arrays\n",
    "arr1 = np.array([1, 2, 3])\n",
    "arr2 = np.array([4, 5, 6])\n",
    "\n",
    "# Stack the arrays vertically using vstack()\n",
    "vstacked = np.vstack((arr1, arr2))\n",
    "\n",
    "# Stack the arrays horizontally using hstack()\n",
    "hstacked = np.hstack((arr1, arr2))\n",
    "\n",
    "# Stack the arrays depth-wise using dstack()\n",
    "dstacked = np.dstack((arr1, arr2))\n",
    "\n",
    "# Stack the arrays along a new axis using stack()\n",
    "stacked = np.stack((arr1, arr2), axis=1)\n",
    "\n",
    "# Print the stacked arrays\n",
    "print(\"Vertically stacked array:\")\n",
    "print(vstacked)\n",
    "\n",
    "print(\"\\nHorizontally stacked array:\")\n",
    "print(hstacked)\n",
    "\n",
    "print(\"\\nDepth-wise stacked array:\")\n",
    "print(dstacked)\n",
    "\n",
    "print(\"\\nStacked array along a new axis:\")\n",
    "print(stacked)"
   ]
  },
  {
   "cell_type": "markdown",
   "metadata": {},
   "source": [
    "##### Q6. Perform the searchsort method in Numpy array."
   ]
  },
  {
   "cell_type": "code",
   "execution_count": 7,
   "metadata": {},
   "outputs": [
    {
     "name": "stdout",
     "output_type": "stream",
     "text": [
      "Original array:\n",
      "[3 1 4 1 5 9 2 6 5 3 5]\n",
      "\n",
      "Sorted array:\n",
      "[1 1 2 3 3 4 5 5 5 6 9]\n",
      "\n",
      "Sort indices:\n",
      "[ 1  3  6  0  9  2  4  8 10  7  5]\n",
      "\n",
      "Search index:\n",
      "6\n"
     ]
    }
   ],
   "source": [
    "import numpy as np\n",
    "\n",
    "# Create an array\n",
    "arr = np.array([3, 1, 4, 1, 5, 9, 2, 6, 5, 3, 5])\n",
    "\n",
    "# Sort the array using np.sort()\n",
    "sorted_arr = np.sort(arr)\n",
    "\n",
    "# Find the indices that would sort the array using np.argsort()\n",
    "sort_indices = np.argsort(arr)\n",
    "\n",
    "# Search for an element in the array using np.searchsorted()\n",
    "search_index = np.searchsorted(sorted_arr, 5)\n",
    "\n",
    "# Print the original and sorted arrays, sort indices, and search index\n",
    "print(\"Original array:\")\n",
    "print(arr)\n",
    "\n",
    "print(\"\\nSorted array:\")\n",
    "print(sorted_arr)\n",
    "\n",
    "print(\"\\nSort indices:\")\n",
    "print(sort_indices)\n",
    "\n",
    "print(\"\\nSearch index:\")\n",
    "print(search_index)"
   ]
  },
  {
   "cell_type": "markdown",
   "metadata": {},
   "source": [
    "##### Q7. Create Numpy Structured array using your domain features."
   ]
  },
  {
   "cell_type": "code",
   "execution_count": 6,
   "metadata": {},
   "outputs": [
    {
     "name": "stdout",
     "output_type": "stream",
     "text": [
      "[(1001, b'Alice',  5000.) (1002, b'Bob', 10000.)\n",
      " (1003, b'Charlie',  7500.)]\n"
     ]
    }
   ],
   "source": [
    "import numpy as np\n",
    "\n",
    "# Define the data type for the structured array\n",
    "dt = np.dtype([('account_number', 'i4'), ('account_holder', 'S20'), ('balance', 'f8')])\n",
    "\n",
    "# Create the structured array\n",
    "arr = np.array([(1001, 'Alice', 5000.0), (1002, 'Bob', 10000.0), (1003, 'Charlie', 7500.0)], dtype=dt)\n",
    "\n",
    "# Print the structured array\n",
    "print(arr)"
   ]
  },
  {
   "cell_type": "markdown",
   "metadata": {},
   "source": [
    "##### Q8. Create Data frame using List and Dictionary."
   ]
  },
  {
   "cell_type": "code",
   "execution_count": 5,
   "metadata": {},
   "outputs": [
    {
     "name": "stdout",
     "output_type": "stream",
     "text": [
      "DataFrame using a list of dictionaries:\n",
      "      name  age\n",
      "0    Alice   25\n",
      "1      Bob   30\n",
      "2  Charlie   35\n",
      "\n",
      "DataFrame using a dictionary of lists:\n",
      "      name  age\n",
      "0    Alice   25\n",
      "1      Bob   30\n",
      "2  Charlie   35\n"
     ]
    }
   ],
   "source": [
    "import pandas as pd\n",
    "\n",
    "# Create a DataFrame using a list of dictionaries\n",
    "data = [{'name': 'Alice', 'age': 25}, {'name': 'Bob', 'age': 30}, {'name': 'Charlie', 'age': 35}]\n",
    "df1 = pd.DataFrame(data)\n",
    "\n",
    "# Create a DataFrame using a dictionary of lists\n",
    "data = {'name': ['Alice', 'Bob', 'Charlie'], 'age': [25, 30, 35]}\n",
    "df2 = pd.DataFrame(data)\n",
    "\n",
    "# Print the DataFrames\n",
    "print(\"DataFrame using a list of dictionaries:\")\n",
    "print(df1)\n",
    "\n",
    "print(\"\\nDataFrame using a dictionary of lists:\")\n",
    "print(df2)"
   ]
  },
  {
   "cell_type": "markdown",
   "metadata": {},
   "source": [
    "##### Q9. Create Data frame on your Domain area and perform the following operations to find and eliminate the missing data from the dataset.\n",
    "• isnull()\n",
    "• notnull()\n",
    "• dropna()\n",
    "• fillna()\n",
    "• replace()\n",
    "• interpolate()"
   ]
  },
  {
   "cell_type": "code",
   "execution_count": 3,
   "metadata": {},
   "outputs": [
    {
     "name": "stdout",
     "output_type": "stream",
     "text": [
      "Missing data:\n",
      "   account_number  account_holder  balance\n",
      "0           False           False    False\n",
      "1           False           False    False\n",
      "2           False           False     True\n",
      "3           False           False    False\n",
      "4           False           False     True\n",
      "\n",
      "Non-missing data:\n",
      "   account_number  account_holder  balance\n",
      "0            True            True     True\n",
      "1            True            True     True\n",
      "2            True            True    False\n",
      "3            True            True     True\n",
      "4            True            True    False\n",
      "\n",
      "DataFrame with missing data dropped:\n",
      "   account_number account_holder  balance\n",
      "0            1001          Alice   5000.0\n",
      "1            1002            Bob  10000.0\n",
      "3            1004          David   7500.0\n",
      "\n",
      "DataFrame with missing data filled:\n",
      "   account_number account_holder  balance\n",
      "0            1001          Alice   5000.0\n",
      "1            1002            Bob  10000.0\n",
      "2            1003        Charlie      0.0\n",
      "3            1004          David   7500.0\n",
      "4            1005          Emily      0.0\n",
      "\n",
      "DataFrame with missing data replaced:\n",
      "   account_number account_holder  balance\n",
      "0            1001          Alice   5000.0\n",
      "1            1002            Bob  10000.0\n",
      "2            1003        Charlie      0.0\n",
      "3            1004          David   7500.0\n",
      "4            1005          Emily      0.0\n",
      "\n",
      "DataFrame with missing data interpolated:\n",
      "   account_number account_holder  balance\n",
      "0            1001          Alice   5000.0\n",
      "1            1002            Bob  10000.0\n",
      "2            1003        Charlie   8750.0\n",
      "3            1004          David   7500.0\n",
      "4            1005          Emily   7500.0\n"
     ]
    }
   ],
   "source": [
    "import pandas as pd\n",
    "import numpy as np\n",
    "\n",
    "# Create a dictionary of lists for the DataFrame\n",
    "data = {'account_number': [1001, 1002, 1003, 1004, 1005],\n",
    "        'account_holder': ['Alice', 'Bob', 'Charlie', 'David', 'Emily'],\n",
    "        'balance': [5000.0, 10000.0, np.nan, 7500.0, np.nan]}\n",
    "\n",
    "# Create the DataFrame\n",
    "df = pd.DataFrame(data)\n",
    "\n",
    "# Find missing data using isnull()\n",
    "print(\"Missing data:\")\n",
    "print(df.isnull())\n",
    "\n",
    "# Find non-missing data using notnull()\n",
    "print(\"\\nNon-missing data:\")\n",
    "print(df.notnull())\n",
    "\n",
    "# Drop missing data using dropna()\n",
    "df_dropped = df.dropna()\n",
    "print(\"\\nDataFrame with missing data dropped:\")\n",
    "print(df_dropped)\n",
    "\n",
    "# Fill missing data using fillna()\n",
    "df_filled = df.fillna(0)\n",
    "print(\"\\nDataFrame with missing data filled:\")\n",
    "print(df_filled)\n",
    "\n",
    "# Replace missing data using replace()\n",
    "df_replaced = df.replace(np.nan, 0)\n",
    "print(\"\\nDataFrame with missing data replaced:\")\n",
    "print(df_replaced)\n",
    "\n",
    "# Interpolate missing data using interpolate()\n",
    "df_interpolated = df.interpolate()\n",
    "print(\"\\nDataFrame with missing data interpolated:\")\n",
    "print(df_interpolated)"
   ]
  },
  {
   "cell_type": "markdown",
   "metadata": {},
   "source": [
    "##### Q10. Perform the Hierarchical Indexing in the above created dataset."
   ]
  },
  {
   "cell_type": "code",
   "execution_count": 4,
   "metadata": {},
   "outputs": [
    {
     "name": "stdout",
     "output_type": "stream",
     "text": [
      "                       account_number  balance\n",
      "branch account_holder                         \n",
      "A      Alice                     1001   5000.0\n",
      "B      Bob                       1002  10000.0\n",
      "A      Charlie                   1003   7500.0\n",
      "C      David                     1004   6000.0\n",
      "B      Emily                     1005   9000.0\n"
     ]
    }
   ],
   "source": [
    "import pandas as pd\n",
    "\n",
    "# Create a dictionary of lists for the DataFrame\n",
    "data = {'account_number': [1001, 1002, 1003, 1004, 1005],\n",
    "        'account_holder': ['Alice', 'Bob', 'Charlie', 'David', 'Emily'],\n",
    "        'balance': [5000.0, 10000.0, 7500.0, 6000.0, 9000.0],\n",
    "        'branch': ['A', 'B', 'A', 'C', 'B']}\n",
    "\n",
    "# Create the DataFrame\n",
    "df = pd.DataFrame(data)\n",
    "\n",
    "# Set the hierarchical index\n",
    "df.set_index(['branch', 'account_holder'], inplace=True)\n",
    "\n",
    "# Print the DataFrame with hierarchical index\n",
    "print(df)"
   ]
  }
 ],
 "metadata": {
  "kernelspec": {
   "display_name": "venv",
   "language": "python",
   "name": "python3"
  },
  "language_info": {
   "codemirror_mode": {
    "name": "ipython",
    "version": 3
   },
   "file_extension": ".py",
   "mimetype": "text/x-python",
   "name": "python",
   "nbconvert_exporter": "python",
   "pygments_lexer": "ipython3",
   "version": "3.11.5"
  },
  "orig_nbformat": 4
 },
 "nbformat": 4,
 "nbformat_minor": 2
}
