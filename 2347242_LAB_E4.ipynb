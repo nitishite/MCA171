{
 "cells": [
  {
   "cell_type": "markdown",
   "metadata": {},
   "source": [
    "### 2347242 Regular_Lab_Exercise_4 "
   ]
  },
  {
   "cell_type": "markdown",
   "metadata": {},
   "source": [
    "##### Q.1 Write a Python program to implement the object-oriented concepts of multiple, Multilevel and Hierarchical Inheritances using your domain applications.\n"
   ]
  },
  {
   "cell_type": "code",
   "execution_count": 11,
   "metadata": {},
   "outputs": [
    {
     "name": "stdout",
     "output_type": "stream",
     "text": [
      "Account SBIN0001 has balance of : $707.425\n",
      "Accounts for Nitish:\n",
      "- Account SBIN0001\n"
     ]
    }
   ],
   "source": [
    "class BankAccount:\n",
    "    def __init__(self, account_number, balance=0):\n",
    "        self.account_number = account_number\n",
    "        self.balance = balance\n",
    "\n",
    "    def deposit(self, amount):\n",
    "        self.balance += amount\n",
    "\n",
    "    def withdraw(self, amount):\n",
    "        if self.balance >= amount:\n",
    "            self.balance -= amount\n",
    "        else:\n",
    "            print(\"Insufficient funds!\")\n",
    "\n",
    "    def display_balance(self):\n",
    "        print(f\"Account {self.account_number} has balance of : ${self.balance}\")\n",
    "\n",
    "\n",
    "class InterestAccount(BankAccount):\n",
    "    def __init__(self, account_number, balance=0, interest_rate=0.01):\n",
    "        super().__init__(account_number, balance)\n",
    "        self.interest_rate = interest_rate\n",
    "\n",
    "    def apply_interest(self):\n",
    "        interest_amount = self.balance * self.interest_rate\n",
    "        self.balance += interest_amount\n",
    "\n",
    "\n",
    "class FeeChargedAccount(BankAccount):\n",
    "    def __init__(self, account_number, balance=0, fee_rate=0.005):\n",
    "        super().__init__(account_number, balance)\n",
    "        self.fee_rate = fee_rate\n",
    "\n",
    "    def deduct_fee(self):\n",
    "        fee_amount = self.balance * self.fee_rate\n",
    "        self.balance -= fee_amount\n",
    "\n",
    "\n",
    "class SavingsAccount(InterestAccount):\n",
    "    pass\n",
    "\n",
    "\n",
    "class CheckingAccount(FeeChargedAccount, InterestAccount):\n",
    "    def __init__(self, account_number, balance=0, overdraft_limit=100):\n",
    "        super().__init__(account_number, balance)\n",
    "        self.overdraft_limit = overdraft_limit\n",
    "\n",
    "    def withdraw(self, amount):\n",
    "        if self.balance + self.overdraft_limit >= amount:\n",
    "            self.balance -= amount\n",
    "        else:\n",
    "            print(\"Insufficient funds!\")\n",
    "\n",
    "\n",
    "class Customer:\n",
    "    def __init__(self, name, accounts=None):\n",
    "        self.name = name\n",
    "        self.accounts = accounts or []\n",
    "\n",
    "    def add_account(self, account):\n",
    "        self.accounts.append(account)\n",
    "\n",
    "    def display_accounts(self):\n",
    "        print(f\"Accounts for {self.name}:\")\n",
    "        for account in self.accounts:\n",
    "            print(f\"- Account {account.account_number}\")\n",
    "\n",
    "\n",
    "checking = CheckingAccount(\"SBIN0001\", balance=500, overdraft_limit=1000)\n",
    "\n",
    "checking.deposit(1000)\n",
    "checking.apply_interest()\n",
    "checking.deduct_fee()\n",
    "checking.withdraw(800)\n",
    "checking.display_balance()\n",
    "\n",
    "customer1 = Customer(\"Nitish\")\n",
    "customer1.add_account(checking)\n",
    "customer1.display_accounts()\n"
   ]
  }
 ],
 "metadata": {
  "kernelspec": {
   "display_name": "venv",
   "language": "python",
   "name": "python3"
  },
  "language_info": {
   "codemirror_mode": {
    "name": "ipython",
    "version": 3
   },
   "file_extension": ".py",
   "mimetype": "text/x-python",
   "name": "python",
   "nbconvert_exporter": "python",
   "pygments_lexer": "ipython3",
   "version": "3.11.4"
  },
  "orig_nbformat": 4
 },
 "nbformat": 4,
 "nbformat_minor": 2
}
