{
 "cells": [
  {
   "cell_type": "markdown",
   "metadata": {},
   "source": [
    "### LAB_Exercise_6"
   ]
  },
  {
   "cell_type": "markdown",
   "metadata": {},
   "source": [
    "##### Q1. Write a program using the Regular Exception and create a function that accepts a string and searches it for a valid phone number.Return the phone number if found."
   ]
  },
  {
   "cell_type": "code",
   "execution_count": 3,
   "metadata": {},
   "outputs": [
    {
     "name": "stdout",
     "output_type": "stream",
     "text": [
      "Phone number is found as valid : (222)-222-2222\n"
     ]
    }
   ],
   "source": [
    "import re\n",
    "def phone_number_check(input_string):\n",
    "    phone_pattern = re.compile(r'(\\(\\d{3}\\)-\\d{3}-\\d{4}|\\d{3}-\\d{3}-\\d{4})')\n",
    "    match = phone_pattern.search(input_string)\n",
    "    if match:\n",
    "        return match.group()\n",
    "    else:\n",
    "        return None\n",
    "\n",
    "text = input(\"Enter a Phone number to check whether it is valid or not: \")\n",
    "phone_number = phone_number_check(text)\n",
    "if phone_number:\n",
    "    print(\"Phone number is found as valid :\", phone_number)\n",
    "else:\n",
    "    print(\"Phone number is not found as valid\")"
   ]
  },
  {
   "cell_type": "markdown",
   "metadata": {},
   "source": [
    "##### Q2.Write a function that employs regular expressions to ensure the password given to the function is strong.\n"
   ]
  },
  {
   "cell_type": "code",
   "execution_count": 5,
   "metadata": {},
   "outputs": [
    {
     "name": "stdout",
     "output_type": "stream",
     "text": [
      "PASSWORD created is STRONG.\n"
     ]
    }
   ],
   "source": [
    "import re\n",
    "def check_password_strength(password):\n",
    "    pattern = r'^(?=.*[A-Z])(?=.*[a-z])(?=.*\\d)(?=.*[@$!%*?&])[A-Za-z\\d@$!%*?&]{8,}$'\n",
    "    if re.match(pattern, password):\n",
    "        return True\n",
    "    else:\n",
    "        return False\n",
    "\n",
    "password = input(\"Plesae enter your Password: \")\n",
    "\n",
    "# Condition for checking the password \n",
    "if check_password_strength(password):\n",
    "    print(\"PASSWORD created is STRONG.\")\n",
    "else:\n",
    "    print(\"PASSWORD created is NOT STRONG.\")\n"
   ]
  }
 ],
 "metadata": {
  "kernelspec": {
   "display_name": "venv",
   "language": "python",
   "name": "python3"
  },
  "language_info": {
   "codemirror_mode": {
    "name": "ipython",
    "version": 3
   },
   "file_extension": ".py",
   "mimetype": "text/x-python",
   "name": "python",
   "nbconvert_exporter": "python",
   "pygments_lexer": "ipython3",
   "version": "3.11.4"
  },
  "orig_nbformat": 4
 },
 "nbformat": 4,
 "nbformat_minor": 2
}
