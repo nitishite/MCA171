{
 "cells": [
  {
   "cell_type": "markdown",
   "metadata": {},
   "source": [
    "##### Lab Exercise 7\n",
    "##### 2347242"
   ]
  },
  {
   "cell_type": "markdown",
   "metadata": {},
   "source": [
    "Q1. Create two 3×3 matrices using the random function in Numpy and perform the following operations.\n",
    "    a. Product (prod)\n",
    "    b. Multiplication (multiply)\n",
    "    c. Dot Product (dot)"
   ]
  },
  {
   "cell_type": "code",
   "execution_count": 31,
   "metadata": {},
   "outputs": [
    {
     "name": "stdout",
     "output_type": "stream",
     "text": [
      "Matrix 1:\n",
      "[[19 10  3]\n",
      " [10 26  1]\n",
      " [18  5  0]]\n",
      "\n",
      "Matrix 2:\n",
      "[[22  1  2]\n",
      " [ 0 11 18]\n",
      " [19 22  9]]\n",
      "\n",
      "Product of the MATRIX(element-wise multiplication):\n",
      "[[418  10   6]\n",
      " [  0 286  18]\n",
      " [342 110   0]]\n",
      "\n",
      "Multiplication of the MAtrix:\n",
      "[[418  10   6]\n",
      " [  0 286  18]\n",
      " [342 110   0]]\n",
      "\n",
      "Dot Product Of two Matrix:\n",
      "[[475 195 245]\n",
      " [239 318 497]\n",
      " [396  73 126]]\n"
     ]
    }
   ],
   "source": [
    "import numpy as np\n",
    "\n",
    "# Create two random 3x3 matrices\n",
    "matrix1 = np.random.randint(30, size=(3, 3))\n",
    "matrix2 = np.random.randint(30, size=(3, 3))\n",
    "\n",
    "# Perform matrix operations\n",
    "\n",
    "# Product (element-wise multiplication)\n",
    "product_result = np.prod([matrix1, matrix2], axis=0)\n",
    "\n",
    "# Multiplication\n",
    "multiplication_result = np.multiply(matrix1, matrix2)\n",
    "\n",
    "# Dot Product\n",
    "dot_product_result = np.dot(matrix1, matrix2)\n",
    "\n",
    "print(\"Matrix 1:\")\n",
    "print(matrix1)\n",
    "print(\"\\nMatrix 2:\")\n",
    "print(matrix2)\n",
    "print(\"\\nProduct of the MATRIX(element-wise multiplication):\")\n",
    "print(product_result)\n",
    "print(\"\\nMultiplication of the MAtrix:\")\n",
    "print(multiplication_result)\n",
    "print(\"\\nDot Product Of two Matrix:\")\n",
    "print(dot_product_result)\n",
    "\n",
    "\n",
    "#ignore \n"
   ]
  },
  {
   "cell_type": "markdown",
   "metadata": {},
   "source": [
    "Q2. Perform the following set operations using the Numpy functions.\n",
    "è Union\n",
    "è Intersection\n",
    "è Set difference\n",
    "è XOR\n"
   ]
  },
  {
   "cell_type": "code",
   "execution_count": 21,
   "metadata": {},
   "outputs": [
    {
     "name": "stdout",
     "output_type": "stream",
     "text": [
      "matrix1:\n",
      " [68 79 97  8 55]\n",
      "matrix2:\n",
      " [17 89 73 96 76]\n",
      "Union:\n",
      " [ 8 17 55 68 73 76 79 89 96 97]\n",
      "Intersection:\n",
      " []\n",
      "Set difference:\n",
      " [ 8 55 68 79 97]\n",
      "XOR(Exclusive OR):\n",
      " [ 8 17 55 68 73 76 79 89 96 97]\n"
     ]
    }
   ],
   "source": [
    "import numpy as np\n",
    "n1=np.random.randint(1,100,5)\n",
    "n2=np.random.randint(1,100,5)\n",
    "print(\"matrix1:\\n\",n1)\n",
    "print(\"matrix2:\\n\",n2)\n",
    "print(\"Union:\\n\",np.union1d(n1,n2))\n",
    "print(\"Intersection:\\n\",np.intersect1d(n1,n2))\n",
    "print(\"Set difference:\\n\",np.setdiff1d(n1,n2))\n",
    "print(\"XOR(Exclusive OR):\\n\",np.setxor1d(n1,n2))"
   ]
  },
  {
   "cell_type": "markdown",
   "metadata": {},
   "source": [
    "Q3. Create a 1D array using Random function and perform the following operations.\n",
    "  a. Cumulative sum\n",
    "  b. Cumulative Product\n",
    "  c. Discrete difference (with n=3)\n",
    "  d. Find the unique elements from the array"
   ]
  },
  {
   "cell_type": "code",
   "execution_count": 24,
   "metadata": {},
   "outputs": [
    {
     "name": "stdout",
     "output_type": "stream",
     "text": [
      "array:\n",
      " [2 5 5 1 8]\n",
      "\n",
      "cumulative sum:\n",
      " [ 2  7 12 13 21]\n",
      "\n",
      "cumulative product:\n",
      " [  2  10  50  50 400]\n",
      "\n",
      "discrete difference:\n",
      " [-1 15]\n",
      "\n",
      "Unique Elements in the array:  [1 2 5 8]\n"
     ]
    }
   ],
   "source": [
    "import numpy as np\n",
    "array=np.random.randint(1,10,5)\n",
    "print(\"array:\\n\",array)\n",
    "print(\"\\ncumulative sum:\\n\",np.cumsum(array))\n",
    "print(\"\\ncumulative product:\\n\",np.cumprod(array))\n",
    "print(\"\\ndiscrete difference:\\n\",np.diff(array, 3))\n",
    "print(\"\\nUnique Elements in the array: \",np.unique(array))\n"
   ]
  },
  {
   "cell_type": "markdown",
   "metadata": {},
   "source": [
    "##### Q4. Create two 1D array and perform the Addition using zip(), add() and user defined function (frompyfunc())\n"
   ]
  },
  {
   "cell_type": "code",
   "execution_count": 25,
   "metadata": {},
   "outputs": [
    {
     "name": "stdout",
     "output_type": "stream",
     "text": [
      "Array 1: [1 2 3 4 5]\n",
      "\n",
      "Array 2: [3 4 5 6 7]\n",
      "\n",
      "Addition using zip() and list comprehension: [ 4  6  8 10 12]\n",
      "\n",
      "Addition using numpy.add(): [ 4  6  8 10 12]\n",
      "\n",
      "Addition using ufunc: [4 6 8 10 12]\n"
     ]
    }
   ],
   "source": [
    "import numpy as np\n",
    "array1=np.array([1,2,3,4,5])\n",
    "array2=np.array([3,4,5,6,7])\n",
    "\n",
    "# Perform addition using zip() and list comprehension\n",
    "zip_addition = np.array([x + y for x, y in zip(array1, array2)])\n",
    "\n",
    "# Perform addition using numpy.add()\n",
    "numpy_addition = np.add(array1, array2)\n",
    "\n",
    "# Create a user-defined function for addition\n",
    "def add(x, y):\n",
    "    return x + y\n",
    "\n",
    "# Create a ufunc from the user-defined function\n",
    "ufunc_add = np.frompyfunc(add, 2, 1)\n",
    "\n",
    "# Perform addition using the ufunc\n",
    "ufunc_addition = ufunc_add(array1, array2)\n",
    "\n",
    "# Print the arrays and the results of the addition\n",
    "print(\"Array 1:\", array1)\n",
    "print(\"\\nArray 2:\", array2)\n",
    "print(\"\\nAddition using zip() and list comprehension:\", zip_addition)\n",
    "print(\"\\nAddition using numpy.add():\", numpy_addition)\n",
    "print(\"\\nAddition using ufunc:\", ufunc_addition)"
   ]
  },
  {
   "cell_type": "markdown",
   "metadata": {},
   "source": [
    "##### Q5. Find the LCM (Least Common Multiple) and GCD (Greatest Common Divisor) of an array of elements using reduce().\n"
   ]
  },
  {
   "cell_type": "code",
   "execution_count": 32,
   "metadata": {},
   "outputs": [
    {
     "name": "stdout",
     "output_type": "stream",
     "text": [
      "Array: [12 18 24 36 48]\n",
      "LCM: 144\n",
      "GCD: 6\n"
     ]
    }
   ],
   "source": [
    "import numpy as np\n",
    "from functools import reduce\n",
    "\n",
    "# Create an array of elements\n",
    "array = np.array([12, 18, 24, 36, 48])\n",
    "\n",
    "# Find the LCM using NumPy's lcm.reduce() function\n",
    "lcm_result = np.lcm.reduce(array)\n",
    "\n",
    "# Find the GCD using NumPy's gcd.reduce() function\n",
    "gcd_result = np.gcd.reduce(array)\n",
    "\n",
    "print(\"Array:\", array)\n",
    "print(\"LCM:\", lcm_result)\n",
    "print(\"GCD:\", gcd_result)\n",
    "\n"
   ]
  }
 ],
 "metadata": {
  "kernelspec": {
   "display_name": "venv",
   "language": "python",
   "name": "python3"
  },
  "language_info": {
   "codemirror_mode": {
    "name": "ipython",
    "version": 3
   },
   "file_extension": ".py",
   "mimetype": "text/x-python",
   "name": "python",
   "nbconvert_exporter": "python",
   "pygments_lexer": "ipython3",
   "version": "3.11.5"
  },
  "orig_nbformat": 4
 },
 "nbformat": 4,
 "nbformat_minor": 2
}
