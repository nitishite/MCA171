{
 "cells": [
  {
   "cell_type": "markdown",
   "metadata": {},
   "source": [
    "### 2347242_LAB3"
   ]
  },
  {
   "cell_type": "markdown",
   "metadata": {},
   "source": [
    "#### Q.1"
   ]
  },
  {
   "cell_type": "markdown",
   "metadata": {},
   "source": [
    "###### Write a function in Python with a string such that it accepts a parameter- “stringsplit”. This encoded string will contain your name, domain name and register number. You can separate the values in the string by any number of underscores. [The string should not contain any other underscore symbols in your name, domain name and register number]. The function should return a Python dictionary with your name, domain name and register number.\n",
    "For example, if the input would be \" Aaron___Googleplaystore____2347201”. Then the function should return the output as follows:\n",
    "{ \"name\": \" Aaron \",\n",
    "\"Domain_name\": \" Googleplaystore \",\n",
    "\"Regno\": \"2347201\" }\n"
   ]
  },
  {
   "cell_type": "code",
   "execution_count": 12,
   "metadata": {},
   "outputs": [
    {
     "name": "stdout",
     "output_type": "stream",
     "text": [
      "Original value :  NitishKumarMahto__BankingManagementSystem______2347242\n",
      "After value :  {'Name': 'NitishKumarMahto', 'Domain_name': 'BankingManagementSystem', 'Regno': 2347242}\n"
     ]
    }
   ],
   "source": [
    "def stringsplit(string):\n",
    "    print(\"Original value : \", string)\n",
    "    string = string.replace('_',' ')\n",
    "    name, domain, regno = string.split()\n",
    "    mydict = {\"Name\": name, \"Domain_name\": domain, \"Regno\": int(regno)}    \n",
    "    return mydict\n",
    "\n",
    "my_dict=input(\"enter your name_Domain_name_Regno\")\n",
    "print(\"After value : \", stringsplit(my_dict))"
   ]
  }
 ],
 "metadata": {
  "kernelspec": {
   "display_name": "venv",
   "language": "python",
   "name": "python3"
  },
  "language_info": {
   "codemirror_mode": {
    "name": "ipython",
    "version": 3
   },
   "file_extension": ".py",
   "mimetype": "text/x-python",
   "name": "python",
   "nbconvert_exporter": "python",
   "pygments_lexer": "ipython3",
   "version": "3.11.4"
  },
  "orig_nbformat": 4
 },
 "nbformat": 4,
 "nbformat_minor": 2
}
