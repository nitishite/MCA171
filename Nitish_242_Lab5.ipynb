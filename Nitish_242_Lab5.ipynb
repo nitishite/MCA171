{
 "cells": [
  {
   "cell_type": "markdown",
   "metadata": {},
   "source": [
    "### LAB_Exercise_5"
   ]
  },
  {
   "cell_type": "markdown",
   "metadata": {},
   "source": [
    "##### Q1. Write a program to handle the Exception on ZeroDivisionError."
   ]
  },
  {
   "cell_type": "code",
   "execution_count": 34,
   "metadata": {},
   "outputs": [
    {
     "name": "stdout",
     "output_type": "stream",
     "text": [
      "ERROR : DIVISION BY ZERO IS NOT ALLOWED.\n"
     ]
    }
   ],
   "source": [
    "def my_divide(a, b):\n",
    "  try:\n",
    "    result = a / b\n",
    "    print(result)\n",
    "  except ZeroDivisionError:\n",
    "    print(\"ERROR : DIVISION BY ZERO IS NOT ALLOWED.\")\n",
    "\n",
    "numerator = float(input(\"Enter the value for Numerator: \"))\n",
    "denominator = float(input(\"Enter the value for Denominator: \"))\n",
    "\n",
    "my_divide(numerator, denominator)\n"
   ]
  },
  {
   "cell_type": "markdown",
   "metadata": {},
   "source": [
    "##### Q2. Write a program to handle the exception of IndexError."
   ]
  },
  {
   "cell_type": "code",
   "execution_count": 39,
   "metadata": {},
   "outputs": [
    {
     "name": "stdout",
     "output_type": "stream",
     "text": [
      "ERROR: list index out of range\n",
      "You Attempted to access the index: 5\n",
      "PROGRAM EXECUTION COMPLETED.\n"
     ]
    }
   ],
   "source": [
    "def my_element(lis, index):\n",
    "    try:\n",
    "        element = lis[index]\n",
    "        print(element)\n",
    "    except IndexError as e:\n",
    "        print(\"ERROR:\", e)\n",
    "    finally:\n",
    "        print(\"You Attempted to access the index:\", index)\n",
    "\n",
    "my_list = [10, 20, 30, 40, 50]\n",
    "\n",
    "try:\n",
    "    index = int(input(\"Enter the index to which you want to access: \"))\n",
    "    result = my_element(my_list, index)\n",
    "except ValueError:\n",
    "    print(\"Please enter a valid input\")\n",
    "except Exception as e:\n",
    "    print(\"AN ERROR OCCURED :\", e)\n",
    "    raise e\n",
    "finally:\n",
    "    print(\"PROGRAM EXECUTION COMPLETED.\")\n"
   ]
  }
 ],
 "metadata": {
  "language_info": {
   "name": "python"
  },
  "orig_nbformat": 4
 },
 "nbformat": 4,
 "nbformat_minor": 2
}
